{
 "cells": [
  {
   "cell_type": "markdown",
   "metadata": {
    "collapsed": true
   },
   "source": [
    "### Finding Prime Numbers"
   ]
  },
  {
   "cell_type": "code",
   "execution_count": 1,
   "metadata": {
    "collapsed": true
   },
   "outputs": [],
   "source": [
    "from pyspark import SparkContext\n",
    "sc =SparkContext()"
   ]
  },
  {
   "cell_type": "markdown",
   "metadata": {},
   "source": [
    "计算素数"
   ]
  },
  {
   "cell_type": "code",
   "execution_count": 9,
   "metadata": {
    "scrolled": false
   },
   "outputs": [
    {
     "name": "stdout",
     "output_type": "stream",
     "text": [
      "[2, 3, 4, 5, 6, 7, 8, 9, 10, 11, 12, 13, 14, 15, 16, 17, 18, 19]\n",
      "[17, 2, 11, 19, 3, 5, 13, 7]\n"
     ]
    }
   ],
   "source": [
    "\n",
    "n = 20\n",
    "allnumbers = sc.parallelize(xrange(2, n), 4).cache()\n",
    "print(allnumbers.collect())\n",
    "composite = allnumbers.flatMap(lambda x: xrange(x*2, n, x))\n",
    "prime = allnumbers.subtract(composite)\n",
    "print prime.take(10)"
   ]
  },
  {
   "cell_type": "code",
   "execution_count": 13,
   "metadata": {
    "scrolled": false
   },
   "outputs": [
    {
     "name": "stdout",
     "output_type": "stream",
     "text": [
      "[4, 5, 4, 5]\n",
      "[[4], [5], [4], [5]]\n",
      "[18, 5, 0, 0]\n",
      "[0, 1, 1, 3, 0, 2, 0, 1]\n",
      "[17]\n"
     ]
    }
   ],
   "source": [
    "# Find the number of elements in each parttion\n",
    "def partitionsize(it): \n",
    "    s = 0\n",
    "    for i in it:\n",
    "        s += 1\n",
    "    yield s\n",
    "\n",
    "print allnumbers.mapPartitions(partitionsize).collect()\n",
    "print allnumbers.mapPartitions(partitionsize).glom().collect()\n",
    "print composite.mapPartitions(partitionsize).collect()\n",
    "print prime.mapPartitions(partitionsize).collect()\n",
    "print prime.glom().collect()[1][0:4]"
   ]
  },
  {
   "cell_type": "markdown",
   "metadata": {},
   "source": [
    "### Data Partitioning"
   ]
  },
  {
   "cell_type": "code",
   "execution_count": 12,
   "metadata": {
    "scrolled": true
   },
   "outputs": [
    {
     "name": "stdout",
     "output_type": "stream",
     "text": [
      "None\n",
      "[[(8, 8)], [(96, 96), (240, 240)], [(400, 400)], [(401, 401), (800, 800)]]\n",
      "[[(8, 8), (96, 96), (400, 400), (240, 240), (800, 800)], [(401, 401)], [], []]\n",
      "<function portable_hash at 0x102f03cf8>\n",
      "[[(8, 8), (96, 96)], [(240, 240), (400, 400)], [(401, 401)], [(800, 800)]]\n",
      "<function rangePartitioner at 0x102c82c08>\n"
     ]
    }
   ],
   "source": [
    "data = [8, 96, 240, 400, 401, 800]\n",
    "rdd = sc.parallelize(zip(data, data),4)\n",
    "print rdd.partitioner\n",
    "print rdd.glom().collect()\n",
    "rdd = rdd.reduceByKey(lambda x,y: x+y)\n",
    "print rdd.glom().collect()\n",
    "print rdd.partitioner.partitionFunc\n",
    "rdd = rdd.sortByKey()\n",
    "print rdd.glom().collect() # search\n",
    "print rdd.partitioner.partitionFunc"
   ]
  },
  {
   "cell_type": "code",
   "execution_count": 31,
   "metadata": {
    "scrolled": false
   },
   "outputs": [
    {
     "name": "stdout",
     "output_type": "stream",
     "text": [
      "[1, 2, 1, 2, 2, 1, 2, 2]\n",
      "[0, 16, 32, 48, 64, 80, 96, 0, 16, 32, 48, 64, 80, 96]\n",
      "rdd2 [7, 0, 0, 0, 0, 0, 0, 0]\n",
      "rdd3 [3, 2, 2, 0, 2, 2, 2, 0]\n",
      "rdd4 [2, 1, 1, 0, 1, 1, 1, 0]\n"
     ]
    }
   ],
   "source": [
    "def partitionsize(it): yield len(list(it))\n",
    "# 用自己定义的custom partition function\n",
    "    \n",
    "n = 100\n",
    "\n",
    "def f(x):\n",
    "    return x / (n/8)\n",
    "\n",
    "data1 = range(0, n, 16) + range(0, n, 16)\n",
    "data2 = range(0, n, 8)\n",
    "rdd1 = sc.parallelize(zip(data1, data2), 8) # [(0, 0), (16, 8), (32, 16), ....\n",
    "print rdd1.mapPartitions(partitionsize).collect() \n",
    "rdd2 = rdd1.reduceByKey(lambda x,y: x+y)# 按照key进行累加运算\n",
    "print data1[-40:]\n",
    "print 'rdd2',rdd2.mapPartitions(partitionsize).collect(),'只分布在一个partition上'\n",
    "rdd3 = rdd1.partitionBy(8, f)\n",
    "print 'rdd3',rdd3.mapPartitions(partitionsize).collect()\n",
    "rdd4 = rdd1.reduceByKey(lambda x,y: x+y, partitionFunc=f)\n",
    "print 'rdd4',rdd4.mapPartitions(partitionsize).collect()"
   ]
  },
  {
   "cell_type": "code",
   "execution_count": 38,
   "metadata": {
    "scrolled": false
   },
   "outputs": [
    {
     "data": {
      "text/plain": [
       "[[(0, 56), (48, 104), (32, 88), (80, 136), (64, 120), (96, 48), (16, 72)],\n",
       " [],\n",
       " [],\n",
       " [],\n",
       " [],\n",
       " [],\n",
       " [],\n",
       " []]"
      ]
     },
     "execution_count": 38,
     "metadata": {},
     "output_type": "execute_result"
    }
   ],
   "source": [
    "rdd2.glom().collect()"
   ]
  },
  {
   "cell_type": "code",
   "execution_count": 36,
   "metadata": {
    "scrolled": false
   },
   "outputs": [
    {
     "data": {
      "text/plain": [
       "[[(0, 0)],\n",
       " [(16, 8), (32, 16)],\n",
       " [(48, 24)],\n",
       " [(64, 32), (80, 40)],\n",
       " [(96, 48), (0, 56)],\n",
       " [(16, 64)],\n",
       " [(32, 72), (48, 80)],\n",
       " [(64, 88), (80, 96)]]"
      ]
     },
     "execution_count": 36,
     "metadata": {},
     "output_type": "execute_result"
    }
   ],
   "source": [
    "rdd1.glom().collect()"
   ]
  },
  {
   "cell_type": "code",
   "execution_count": 5,
   "metadata": {},
   "outputs": [
    {
     "name": "stdout",
     "output_type": "stream",
     "text": [
      "None\n",
      "<function portable_hash at 0x7f7e47970848>\n",
      "8\n",
      "<function portable_hash at 0x7f7e47970848>\n",
      "[(0, (0, 0)), (2048, (2048, 2048)), (1432, (1432, 1432)), (2056, (2056, 2056))]\n"
     ]
    }
   ],
   "source": [
    "a = sc.parallelize(zip(range(10000), range(10000)), 8)\n",
    "b = sc.parallelize(zip(range(10000), range(10000)), 8)\n",
    "print a.partitioner\n",
    "a = a.reduceByKey(lambda x,y: x+y)\n",
    "print a.partitioner.partitionFunc\n",
    "b = b.reduceByKey(lambda x,y: x+y)\n",
    "c = a.join(b)\n",
    "print c.getNumPartitions()\n",
    "print c.partitioner.partitionFunc\n",
    "print c.glom().first()[0:4]"
   ]
  },
  {
   "cell_type": "markdown",
   "metadata": {},
   "source": [
    "### Partitioning in DataFrames"
   ]
  },
  {
   "cell_type": "code",
   "execution_count": 42,
   "metadata": {},
   "outputs": [
    {
     "ename": "NameError",
     "evalue": "name 'spark' is not defined",
     "output_type": "error",
     "traceback": [
      "\u001b[0;31m---------------------------------------------------------------------------\u001b[0m",
      "\u001b[0;31mNameError\u001b[0m                                 Traceback (most recent call last)",
      "\u001b[0;32m<ipython-input-42-c85a33a0777c>\u001b[0m in \u001b[0;36m<module>\u001b[0;34m()\u001b[0m\n\u001b[1;32m      1\u001b[0m \u001b[0mdata1\u001b[0m \u001b[0;34m=\u001b[0m \u001b[0;34m[\u001b[0m\u001b[0;36m1\u001b[0m\u001b[0;34m,\u001b[0m \u001b[0;36m1\u001b[0m\u001b[0;34m,\u001b[0m \u001b[0;36m1\u001b[0m\u001b[0;34m,\u001b[0m \u001b[0;36m2\u001b[0m\u001b[0;34m,\u001b[0m \u001b[0;36m2\u001b[0m\u001b[0;34m,\u001b[0m \u001b[0;36m2\u001b[0m\u001b[0;34m,\u001b[0m \u001b[0;36m3\u001b[0m\u001b[0;34m,\u001b[0m \u001b[0;36m3\u001b[0m\u001b[0;34m,\u001b[0m \u001b[0;36m3\u001b[0m\u001b[0;34m,\u001b[0m \u001b[0;36m4\u001b[0m\u001b[0;34m]\u001b[0m\u001b[0;34m\u001b[0m\u001b[0m\n\u001b[1;32m      2\u001b[0m \u001b[0mdata2\u001b[0m \u001b[0;34m=\u001b[0m \u001b[0;34m[\u001b[0m\u001b[0;36m2\u001b[0m\u001b[0;34m,\u001b[0m \u001b[0;36m2\u001b[0m\u001b[0;34m,\u001b[0m \u001b[0;36m3\u001b[0m\u001b[0;34m,\u001b[0m \u001b[0;36m4\u001b[0m\u001b[0;34m,\u001b[0m \u001b[0;36m5\u001b[0m\u001b[0;34m,\u001b[0m \u001b[0;36m3\u001b[0m\u001b[0;34m,\u001b[0m \u001b[0;36m1\u001b[0m\u001b[0;34m,\u001b[0m \u001b[0;36m1\u001b[0m\u001b[0;34m,\u001b[0m \u001b[0;36m2\u001b[0m\u001b[0;34m,\u001b[0m \u001b[0;36m3\u001b[0m\u001b[0;34m]\u001b[0m\u001b[0;34m\u001b[0m\u001b[0m\n\u001b[0;32m----> 3\u001b[0;31m \u001b[0mdf\u001b[0m \u001b[0;34m=\u001b[0m \u001b[0mspark\u001b[0m\u001b[0;34m.\u001b[0m\u001b[0mcreateDataFrame\u001b[0m\u001b[0;34m(\u001b[0m\u001b[0mzip\u001b[0m\u001b[0;34m(\u001b[0m\u001b[0mdata1\u001b[0m\u001b[0;34m,\u001b[0m \u001b[0mdata2\u001b[0m\u001b[0;34m)\u001b[0m\u001b[0;34m)\u001b[0m\u001b[0;34m\u001b[0m\u001b[0m\n\u001b[0m\u001b[1;32m      4\u001b[0m \u001b[0;32mprint\u001b[0m \u001b[0mdf\u001b[0m\u001b[0;34m.\u001b[0m\u001b[0mrdd\u001b[0m\u001b[0;34m.\u001b[0m\u001b[0mgetNumPartitions\u001b[0m\u001b[0;34m(\u001b[0m\u001b[0;34m)\u001b[0m\u001b[0;34m\u001b[0m\u001b[0m\n\u001b[1;32m      5\u001b[0m \u001b[0;32mprint\u001b[0m \u001b[0mdf\u001b[0m\u001b[0;34m.\u001b[0m\u001b[0mrdd\u001b[0m\u001b[0;34m.\u001b[0m\u001b[0mglom\u001b[0m\u001b[0;34m(\u001b[0m\u001b[0;34m)\u001b[0m\u001b[0;34m.\u001b[0m\u001b[0mcollect\u001b[0m\u001b[0;34m(\u001b[0m\u001b[0;34m)\u001b[0m\u001b[0;34m\u001b[0m\u001b[0m\n",
      "\u001b[0;31mNameError\u001b[0m: name 'spark' is not defined"
     ]
    }
   ],
   "source": [
    "data1 = [1, 1, 1, 2, 2, 2, 3, 3, 3, 4]\n",
    "data2 = [2, 2, 3, 4, 5, 3, 1, 1, 2, 3]\n",
    "df = spark.createDataFrame(zip(data1, data2))\n",
    "print df.rdd.getNumPartitions()\n",
    "print df.rdd.glom().collect()"
   ]
  },
  {
   "cell_type": "code",
   "execution_count": 11,
   "metadata": {
    "scrolled": true
   },
   "outputs": [
    {
     "name": "stdout",
     "output_type": "stream",
     "text": [
      "[[], [], [Row(_1=1, _2=2), Row(_1=1, _2=2), Row(_1=2, _2=4), Row(_1=2, _2=5), Row(_1=3, _2=2)], [Row(_1=1, _2=3), Row(_1=2, _2=3), Row(_1=4, _2=3)], [], [Row(_1=3, _2=1), Row(_1=3, _2=1)]]\n",
      "+---+---+\n",
      "| _1| _2|\n",
      "+---+---+\n",
      "|  1|  2|\n",
      "|  1|  2|\n",
      "|  2|  4|\n",
      "|  2|  5|\n",
      "|  3|  2|\n",
      "|  1|  3|\n",
      "|  2|  3|\n",
      "|  4|  3|\n",
      "|  3|  1|\n",
      "|  3|  1|\n",
      "+---+---+\n",
      "\n"
     ]
    }
   ],
   "source": [
    "df1 = df.repartition(6, df._2)\n",
    "print df1.rdd.glom().collect()\n",
    "df1.show()"
   ]
  },
  {
   "cell_type": "code",
   "execution_count": 25,
   "metadata": {
    "scrolled": false
   },
   "outputs": [
    {
     "ename": "NameError",
     "evalue": "name 'spark' is not defined",
     "output_type": "error",
     "traceback": [
      "\u001b[0;31m---------------------------------------------------------------------------\u001b[0m",
      "\u001b[0;31mNameError\u001b[0m                                 Traceback (most recent call last)",
      "\u001b[0;32m<ipython-input-25-1106a327ecff>\u001b[0m in \u001b[0;36m<module>\u001b[0;34m()\u001b[0m\n\u001b[1;32m      8\u001b[0m \u001b[0;34m\u001b[0m\u001b[0m\n\u001b[1;32m      9\u001b[0m \u001b[0mrdd\u001b[0m \u001b[0;34m=\u001b[0m \u001b[0msc\u001b[0m\u001b[0;34m.\u001b[0m\u001b[0mparallelize\u001b[0m\u001b[0;34m(\u001b[0m\u001b[0;34m(\u001b[0m\u001b[0mi\u001b[0m\u001b[0;34m,\u001b[0m \u001b[0;34m)\u001b[0m \u001b[0;32mfor\u001b[0m \u001b[0mi\u001b[0m \u001b[0;32min\u001b[0m \u001b[0mxrange\u001b[0m\u001b[0;34m(\u001b[0m\u001b[0mnum_waybills\u001b[0m\u001b[0;34m)\u001b[0m\u001b[0;34m)\u001b[0m\u001b[0;34m\u001b[0m\u001b[0m\n\u001b[0;32m---> 10\u001b[0;31m waybills = spark.createDataFrame(rdd).select(floor(rand()*num_waybills).alias('waybill'), \n\u001b[0m\u001b[1;32m     11\u001b[0m                                              floor(rand()*num_customers).alias('customer')) \\\n\u001b[1;32m     12\u001b[0m                 \u001b[0;34m.\u001b[0m\u001b[0mrepartition\u001b[0m\u001b[0;34m(\u001b[0m\u001b[0;34m'waybill'\u001b[0m\u001b[0;34m)\u001b[0m\u001b[0;31m\\\u001b[0m\u001b[0;34m\u001b[0m\u001b[0m\n",
      "\u001b[0;31mNameError\u001b[0m: name 'spark' is not defined"
     ]
    }
   ],
   "source": [
    "# A 'real' example from SF Express\n",
    "# Prepare three relational tables\n",
    "\n",
    "from pyspark.sql.functions import *\n",
    "\n",
    "num_waybills = 1000\n",
    "num_customers = 100\n",
    "\n",
    "rdd = sc.parallelize((i, ) for i in xrange(num_waybills))\n",
    "waybills = spark.createDataFrame(rdd).select(floor(rand()*num_waybills).alias('waybill'), \n",
    "                                             floor(rand()*num_customers).alias('customer')) \\\n",
    "                .repartition('waybill')\\\n",
    "                .cache()\n",
    "waybills.show()\n",
    "print waybills.count()\n",
    "\n",
    "rdd = sc.parallelize((i, i) for i in xrange(num_customers))\n",
    "customers = spark.createDataFrame(rdd, ['customer', 'phone']).cache()\n",
    "customers.show()\n",
    "print customers.count()\n",
    "\n",
    "rdd = sc.parallelize((i, ) for i in xrange(num_waybills))\n",
    "waybill_status = spark.createDataFrame(rdd).select(floor(rand()*num_waybills).alias('waybill'), \n",
    "                                                   floor(rand()*10).alias('version')) \\\n",
    "                      .groupBy('waybill').max('version').cache()\n",
    "waybill_status.show()\n",
    "print waybill_status.count()"
   ]
  },
  {
   "cell_type": "code",
   "execution_count": 3,
   "metadata": {},
   "outputs": [
    {
     "name": "stdout",
     "output_type": "stream",
     "text": [
      "+-------+--------+-----+------------+\n",
      "|waybill|customer|phone|max(version)|\n",
      "+-------+--------+-----+------------+\n",
      "|    474|      80|   80|           3|\n",
      "|    964|      47|   47|           5|\n",
      "|    191|      81|   81|           2|\n",
      "|    222|      26|   26|           4|\n",
      "|    293|      12|   12|           7|\n",
      "|    442|      90|   90|           7|\n",
      "|    278|      40|   40|           8|\n",
      "|    705|      47|   47|           2|\n",
      "|    243|      78|   78|           1|\n",
      "|    926|      37|   37|           6|\n",
      "|     54|      16|   16|           8|\n",
      "|    847|      90|   90|           8|\n",
      "|    348|      42|   42|           7|\n",
      "|    502|      60|   60|           8|\n",
      "|    113|      74|   74|           2|\n",
      "|    155|      99|   99|           3|\n",
      "|    385|      44|   44|           5|\n",
      "|    241|      79|   79|           7|\n",
      "|    414|      15|   15|           0|\n",
      "|    196|       2|    2|           3|\n",
      "+-------+--------+-----+------------+\n",
      "only showing top 20 rows\n",
      "\n"
     ]
    }
   ],
   "source": [
    "# We want to join 3 tables together.\n",
    "# Knowing how each table is partitioned helps optimize the join order.\n",
    "\n",
    "waybills.join(customers, 'customer').join(waybill_status, 'waybill').show()\n",
    "# waybills.join(waybill_status, 'waybill').join(customers, 'customer').show()"
   ]
  },
  {
   "cell_type": "markdown",
   "metadata": {},
   "source": [
    "### Threading"
   ]
  },
  {
   "cell_type": "code",
   "execution_count": 26,
   "metadata": {},
   "outputs": [
    {
     "name": "stdout",
     "output_type": "stream",
     "text": [
      "Worker 1 reports: Pi is roughly 3.142233\n",
      "Worker 2 reports: Pi is roughly 3.142872\n",
      "Worker 0 reports: Pi is roughly 3.141997\n",
      "Worker 4 reports: Pi is roughly 3.142006\n",
      "Worker 3 reports: Pi is roughly 3.142212\n"
     ]
    },
    {
     "data": {
      "text/plain": [
       "'\\nfor i in range(5):\\n    dojob(i)\\n'"
      ]
     },
     "execution_count": 26,
     "metadata": {},
     "output_type": "execute_result"
    }
   ],
   "source": [
    "import threading\n",
    "import random\n",
    "\n",
    "partitions = 8\n",
    "n = 500000 * partitions\n",
    "\n",
    "# use different seeds in different threads and different partitions\n",
    "# a bit ugly, since mapPartitionsWithIndex takes a function with only index\n",
    "# and it as parameters\n",
    "def f1(index, it):\n",
    "    random.seed(index + 987231)\n",
    "    for i in it:\n",
    "        x = random.random() * 2 - 1\n",
    "        y = random.random() * 2 - 1\n",
    "        yield 1 if x ** 2 + y ** 2 < 1 else 0\n",
    "\n",
    "def f2(index, it):\n",
    "    random.seed(index + 987232)\n",
    "    for i in it:\n",
    "        x = random.random() * 2 - 1\n",
    "        y = random.random() * 2 - 1\n",
    "        yield 1 if x ** 2 + y ** 2 < 1 else 0\n",
    "\n",
    "def f3(index, it):\n",
    "    random.seed(index + 987233)\n",
    "    for i in it:\n",
    "        x = random.random() * 2 - 1\n",
    "        y = random.random() * 2 - 1\n",
    "        yield 1 if x ** 2 + y ** 2 < 1 else 0\n",
    "    \n",
    "def f4(index, it):\n",
    "    random.seed(index + 987234)\n",
    "    for i in it:\n",
    "        x = random.random() * 2 - 1\n",
    "        y = random.random() * 2 - 1\n",
    "        yield 1 if x ** 2 + y ** 2 < 1 else 0\n",
    "    \n",
    "def f5(index, it):\n",
    "    random.seed(index + 987245)\n",
    "    for i in it:\n",
    "        x = random.random() * 2 - 1\n",
    "        y = random.random() * 2 - 1\n",
    "        yield 1 if x ** 2 + y ** 2 < 1 else 0\n",
    "\n",
    "f = [f1, f2, f3, f4, f5]\n",
    "    \n",
    "# the function executed in each thread/job\n",
    "def dojob(i):\n",
    "    count = sc.parallelize(xrange(1, n + 1), partitions) \\\n",
    "              .mapPartitionsWithIndex(f[i]).reduce(lambda a,b: a+b)\n",
    "    print \"Worker\", i, \"reports: Pi is roughly\", 4.0 * count / n\n",
    "\n",
    "# create and execute the threads\n",
    "threads = []\n",
    "for i in range(5):\n",
    "    t = threading.Thread(target=dojob, args=(i,))\n",
    "    threads += [t]\n",
    "    t.start()\n",
    "\n",
    "# wait for all threads to complete\n",
    "for t in threads:\n",
    "    t.join()    \n",
    "'''\n",
    "for i in range(5):\n",
    "    dojob(i)\n",
    "'''"
   ]
  },
  {
   "cell_type": "code",
   "execution_count": null,
   "metadata": {
    "collapsed": true
   },
   "outputs": [],
   "source": []
  },
  {
   "cell_type": "code",
   "execution_count": null,
   "metadata": {
    "collapsed": true
   },
   "outputs": [],
   "source": []
  }
 ],
 "metadata": {
  "hide_input": false,
  "kernelspec": {
   "display_name": "Python [conda env:anaconda]",
   "language": "python",
   "name": "conda-env-anaconda-py"
  },
  "language_info": {
   "codemirror_mode": {
    "name": "ipython",
    "version": 2
   },
   "file_extension": ".py",
   "mimetype": "text/x-python",
   "name": "python",
   "nbconvert_exporter": "python",
   "pygments_lexer": "ipython2",
   "version": "2.7.13"
  },
  "varInspector": {
   "cols": {
    "lenName": 16,
    "lenType": 16,
    "lenVar": 40
   },
   "kernels_config": {
    "python": {
     "delete_cmd_postfix": "",
     "delete_cmd_prefix": "del ",
     "library": "var_list.py",
     "varRefreshCmd": "print(var_dic_list())"
    },
    "r": {
     "delete_cmd_postfix": ") ",
     "delete_cmd_prefix": "rm(",
     "library": "var_list.r",
     "varRefreshCmd": "cat(var_dic_list()) "
    }
   },
   "types_to_exclude": [
    "module",
    "function",
    "builtin_function_or_method",
    "instance",
    "_Feature"
   ],
   "window_display": false
  }
 },
 "nbformat": 4,
 "nbformat_minor": 1
}
