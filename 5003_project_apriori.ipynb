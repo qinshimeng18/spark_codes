{
 "cells": [
  {
   "cell_type": "code",
   "execution_count": 1,
   "metadata": {
    "collapsed": true
   },
   "outputs": [],
   "source": [
    "#!/usr/bin/python\n",
    "# -*- coding: UTF-8 -*-\n",
    "from __future__ import division\n",
    "import csv\n",
    "import random\n",
    "from pyspark import SparkContext\n",
    "from pyspark.sql import SQLContext\n",
    "from pyspark.sql.functions import *\n",
    "import time"
   ]
  },
  {
   "cell_type": "code",
   "execution_count": 2,
   "metadata": {
    "collapsed": true
   },
   "outputs": [],
   "source": [
    "sc = SparkContext()"
   ]
  },
  {
   "cell_type": "markdown",
   "metadata": {},
   "source": [
    "- Transaction generate"
   ]
  },
  {
   "cell_type": "code",
   "execution_count": 3,
   "metadata": {
    "collapsed": true
   },
   "outputs": [],
   "source": [
    "#size: how many items in one transaction\n",
    "#Length: number of transaction\n",
    "#itemsize: number of items\n",
    "def transaction_generation(size, length, itemsize):\n",
    "    transaction = []\n",
    "    item_range = 97 + itemsize\n",
    "    for iterator in range(0, length):\n",
    "        transaction.append(random.sample([chr(i) for i in range(97, item_range)], size))\n",
    "    return transaction"
   ]
  },
  {
   "cell_type": "markdown",
   "metadata": {},
   "source": [
    "- Data preparation"
   ]
  },
  {
   "cell_type": "code",
   "execution_count": 4,
   "metadata": {
    "collapsed": true
   },
   "outputs": [],
   "source": [
    "def readcsv(path):\n",
    "    Tractions = []\n",
    "    with open(path, 'r') as csvfile:\n",
    "        Data = csv.reader(csvfile)\n",
    "        for line in Data:\n",
    "            Tractions.append(list(line))\n",
    "    return Tractions"
   ]
  },
  {
   "cell_type": "code",
   "execution_count": 5,
   "metadata": {
    "collapsed": true
   },
   "outputs": [],
   "source": [
    "# def infrequentSubSet(candidates, frequentset):\n",
    "#     size = len(frequentset[0]) + 1\n",
    "#     freqSetNum = {}\n",
    "#     for candidate in candidates:\n",
    "#         freqSetNum[candidate] = 0\n",
    "#         for freqset in frequentset:\n",
    "#             freqset = set(freqset)          \n",
    "#             if freqset.issubset(candidate):\n",
    "#                 freqSetNum[candidate] += 1\n",
    "#     freqSubSet = dict(filter(lambda x: x > size - 1 , freqSetNum.items()))\n",
    "#     return freqSubSet.keys()\n",
    "def infrequentSubSet(candidates, frequentset):\n",
    "    size = len(frequentset[0]) + 1\n",
    "    freqSetNum ={}\n",
    "    for candidate in candidates:\n",
    "        freqSetNum[candidate] = 0\n",
    "        candidate_list = list(candidate)\n",
    "        for i in range(size):\n",
    "            sub_candidate = frozenset(candidate_list[:i]+candidate_list[(i+1):])\n",
    "            if sub_candidate in list(frequentset):\n",
    "                freqSetNum[candidate] += 1\n",
    "    return [k  for (k,v) in freqSetNum.items() if v == size]\n",
    "   "
   ]
  },
  {
   "cell_type": "code",
   "execution_count": 6,
   "metadata": {},
   "outputs": [
    {
     "ename": "NameError",
     "evalue": "name 'joinset' is not defined",
     "output_type": "error",
     "traceback": [
      "\u001b[0;31m---------------------------------------------------------------------------\u001b[0m",
      "\u001b[0;31mNameError\u001b[0m                                 Traceback (most recent call last)",
      "\u001b[0;32m<ipython-input-6-0541eed2c542>\u001b[0m in \u001b[0;36m<module>\u001b[0;34m()\u001b[0m\n\u001b[1;32m      1\u001b[0m \u001b[0ma\u001b[0m \u001b[0;34m=\u001b[0m \u001b[0;34m[\u001b[0m\u001b[0;34m[\u001b[0m\u001b[0;36m1\u001b[0m\u001b[0;34m,\u001b[0m\u001b[0;36m2\u001b[0m\u001b[0;34m]\u001b[0m\u001b[0;34m,\u001b[0m\u001b[0;34m[\u001b[0m\u001b[0;36m1\u001b[0m\u001b[0;34m,\u001b[0m\u001b[0;36m4\u001b[0m\u001b[0;34m]\u001b[0m\u001b[0;34m,\u001b[0m\u001b[0;34m[\u001b[0m\u001b[0;36m2\u001b[0m\u001b[0;34m,\u001b[0m\u001b[0;36m3\u001b[0m\u001b[0;34m]\u001b[0m\u001b[0;34m,\u001b[0m\u001b[0;34m[\u001b[0m\u001b[0;36m2\u001b[0m\u001b[0;34m,\u001b[0m\u001b[0;36m4\u001b[0m\u001b[0;34m]\u001b[0m\u001b[0;34m,\u001b[0m\u001b[0;34m[\u001b[0m\u001b[0;36m3\u001b[0m\u001b[0;34m,\u001b[0m\u001b[0;36m4\u001b[0m\u001b[0;34m]\u001b[0m\u001b[0;34m]\u001b[0m\u001b[0;34m\u001b[0m\u001b[0m\n\u001b[1;32m      2\u001b[0m \u001b[0ma\u001b[0m \u001b[0;34m=\u001b[0m \u001b[0;34m[\u001b[0m\u001b[0mfrozenset\u001b[0m\u001b[0;34m(\u001b[0m\u001b[0mi\u001b[0m\u001b[0;34m)\u001b[0m \u001b[0;32mfor\u001b[0m \u001b[0mi\u001b[0m \u001b[0;32min\u001b[0m \u001b[0ma\u001b[0m\u001b[0;34m]\u001b[0m\u001b[0;34m\u001b[0m\u001b[0m\n\u001b[0;32m----> 3\u001b[0;31m \u001b[0mjoinset\u001b[0m\u001b[0;34m(\u001b[0m\u001b[0ma\u001b[0m\u001b[0;34m)\u001b[0m\u001b[0;34m\u001b[0m\u001b[0m\n\u001b[0m",
      "\u001b[0;31mNameError\u001b[0m: name 'joinset' is not defined"
     ]
    }
   ],
   "source": [
    "a = [[1,2],[1,4],[2,3],[2,4],[3,4]]\n",
    "a = [frozenset(i) for i in a]\n",
    "joinset(a)"
   ]
  },
  {
   "cell_type": "code",
   "execution_count": 7,
   "metadata": {
    "collapsed": true
   },
   "outputs": [],
   "source": [
    "def joinset(candidate):\n",
    "#     print(4)\n",
    "    length = len(candidate)\n",
    "    size = len(candidate[0]) + 1\n",
    "    output = []\n",
    "    for i in range(length):\n",
    "        for j in range(i, length):\n",
    "            joinedSet = frozenset(list(candidate[i]) + list(candidate[j]))\n",
    "            if len(joinedSet) == size:\n",
    "                output.append(joinedSet)\n",
    "#     print(5)\n",
    "#     TractionSet_bc = sc.broadcast(TractionSet.collect())\n",
    "    output = infrequentSubSet(output, candidate)\n",
    "#     print(6)\n",
    "    return output"
   ]
  },
  {
   "cell_type": "markdown",
   "metadata": {},
   "source": [
    "- Main function"
   ]
  },
  {
   "cell_type": "code",
   "execution_count": 8,
   "metadata": {
    "collapsed": true
   },
   "outputs": [],
   "source": [
    "def aprioir(data, minsup):\n",
    "    Size = len(data)\n",
    "    Tractions = sc.parallelize(data)\n",
    "    TractionSet = Tractions.map(lambda x: set(x)).cache()\n",
    "    \n",
    "    #find the 1-item pattern and frequency\n",
    "    TractionOneSet = Tractions.flatMap(lambda x: frozenset(set(x))).cache()\n",
    "    TractionSetValue = TractionOneSet.map(lambda x: (x, 1 / Size)).reduceByKey(lambda x,y: x + y)\n",
    "    FrequentSetValue = TractionSetValue.filter(lambda x: x[1] >= minsup)\n",
    "    FrequentOneSet = FrequentSetValue.map(lambda x: frozenset([x[0]])).collect()\n",
    "    \n",
    "    TractionSet_bc = sc.broadcast(TractionSet.collect())\n",
    "#     TractionSet_bc = TractionSet.collect()\n",
    "\n",
    "\n",
    "    k = 2\n",
    "    output = {}\n",
    "    output[k - 2] = FrequentOneSet\n",
    "    while (len(output[k - 2]) > 0):\n",
    "        if k-2 >= 6:\n",
    "            break\n",
    "        print '%s th interation'%k\n",
    "#         print('before')\n",
    "#         print(output[k-2])\n",
    "        print(1)\n",
    "        JoinedKSet = joinset(output[k-2])\n",
    "#         print('after')\n",
    "#         print(JoinedKSet)\n",
    "        print(2)\n",
    "        FrequentKSupport = sc.parallelize(JoinedKSet).map(lambda x: (x, len([trac for trac in TractionSet_bc.value if x.issubset(trac)]) / Size)).filter(lambda x: x[1] >= minsup).cache()\n",
    "#         print(FrequentKSupport.take(5))\n",
    "        FrequentKSet = FrequentKSupport.map(lambda x: x[0]).collect()\n",
    "        print(3)\n",
    "        k += 1\n",
    "        output[k - 2] = FrequentKSet\n",
    "#         break\n",
    "    return output"
   ]
  },
  {
   "cell_type": "code",
   "execution_count": 11,
   "metadata": {
    "scrolled": false
   },
   "outputs": [
    {
     "name": "stdout",
     "output_type": "stream",
     "text": [
      "2 th interation\n",
      "1\n",
      "2\n",
      "3\n",
      "3 th interation\n",
      "1\n",
      "2\n",
      "3\n",
      "4 th interation\n",
      "1\n",
      "2\n",
      "3\n",
      "0\n",
      "(198, [frozenset(['21314']), frozenset(['21930']), frozenset(['22386']), frozenset(['22382']), frozenset(['22144']), frozenset(['21080']), frozenset(['23240']), frozenset(['22423']), frozenset(['84755']), frozenset(['23200'])])\n",
      "1\n",
      "(44, [frozenset(['21931', '22386']), frozenset(['22698', '22699']), frozenset(['82494L', '82482']), frozenset(['23202', '23203']), frozenset(['85099B', '22411']), frozenset(['22699', '22697']), frozenset(['22383', '20728']), frozenset(['22383', '20725']), frozenset(['22382', '20728']), frozenset(['23203', '85099B'])])\n",
      "2\n",
      "(1, [frozenset(['22698', '22699', '22697'])])\n",
      "3\n",
      "(0, [])\n",
      "The duration is 40.0090339184 s\n",
      "CPU times: user 1.89 s, sys: 211 ms, total: 2.1 s\n",
      "Wall time: 40.2 s\n"
     ]
    }
   ],
   "source": [
    "%%time\n",
    "if __name__ == \"__main__\":\n",
    "    #size, length, itemsize\n",
    "    #    Data = transaction_generation(5, 1000000, 10)\n",
    "    #     Data = readcsv('75000i.csv')\n",
    "    Data = readcsv('./transactions.txt')[:25000]\n",
    "    minsup = 0.018\n",
    "\n",
    "    start = time.time()\n",
    "    freq_pattern = aprioir(Data, minsup)\n",
    "    stop = time.time()\n",
    "\n",
    "    for k, v in freq_pattern.items():\n",
    "        print(k)\n",
    "        print(len(v), v[:10])\n",
    "    print 'The duration is', str(stop - start), 's'"
   ]
  },
  {
   "cell_type": "code",
   "execution_count": 14,
   "metadata": {},
   "outputs": [
    {
     "ename": "AttributeError",
     "evalue": "'list' object has no attribute 'map'",
     "output_type": "error",
     "traceback": [
      "\u001b[0;31m---------------------------------------------------------------------------\u001b[0m",
      "\u001b[0;31mAttributeError\u001b[0m                            Traceback (most recent call last)",
      "\u001b[0;32m<ipython-input-14-511f7b45734d>\u001b[0m in \u001b[0;36m<module>\u001b[0;34m()\u001b[0m\n\u001b[1;32m     12\u001b[0m \u001b[0mTractionSet_bc\u001b[0m \u001b[0;34m=\u001b[0m \u001b[0msc\u001b[0m\u001b[0;34m.\u001b[0m\u001b[0mbroadcast\u001b[0m\u001b[0;34m(\u001b[0m\u001b[0mTractionSet\u001b[0m\u001b[0;34m.\u001b[0m\u001b[0mcollect\u001b[0m\u001b[0;34m(\u001b[0m\u001b[0;34m)\u001b[0m\u001b[0;34m)\u001b[0m\u001b[0;34m\u001b[0m\u001b[0m\n\u001b[1;32m     13\u001b[0m \u001b[0;34m\u001b[0m\u001b[0m\n\u001b[0;32m---> 14\u001b[0;31m \u001b[0mFrequentOneSet\u001b[0m\u001b[0;34m.\u001b[0m\u001b[0mmap\u001b[0m\u001b[0;34m(\u001b[0m\u001b[0;32mlambda\u001b[0m \u001b[0mx\u001b[0m\u001b[0;34m:\u001b[0m\u001b[0;34m(\u001b[0m\u001b[0mx\u001b[0m\u001b[0;34m,\u001b[0m\u001b[0;36m1\u001b[0m\u001b[0;34m)\u001b[0m\u001b[0;34m)\u001b[0m\u001b[0;34m.\u001b[0m\u001b[0mreduceByKey\u001b[0m\u001b[0;34m(\u001b[0m\u001b[0;34m)\u001b[0m\u001b[0;34m.\u001b[0m\u001b[0mcollect\u001b[0m\u001b[0;34m\u001b[0m\u001b[0m\n\u001b[0m\u001b[1;32m     15\u001b[0m \u001b[0;34m\u001b[0m\u001b[0m\n\u001b[1;32m     16\u001b[0m \u001b[0;34m\u001b[0m\u001b[0m\n",
      "\u001b[0;31mAttributeError\u001b[0m: 'list' object has no attribute 'map'"
     ]
    }
   ],
   "source": [
    "data = readcsv('75000i.csv')\n",
    "Size = len(data)\n",
    "Tractions = sc.parallelize(data)\n",
    "TractionSet = Tractions.map(lambda x: set(x)).cache()\n",
    "\n",
    "#find the 1-item pattern and frequency\n",
    "TractionOneSet = Tractions.flatMap(lambda x: frozenset(set(x))).cache() # all  elements unique\n",
    "TractionSetValue = TractionOneSet.map(lambda x: (x, 1 / Size)).reduceByKey(lambda x,y: x + y)\n",
    "FrequentSetValue = TractionSetValue.filter(lambda x: x[1] >= minsup)\n",
    "FrequentOneSet = FrequentSetValue.map(lambda x: [x[0]]).collect()\n",
    "\n",
    "TractionSet_bc = sc.broadcast(TractionSet.collect())\n",
    "\n",
    "FrequentOneSet.map(lambda x:(x,1)).reduceByKey().collect\n",
    "\n",
    "\n",
    "# k = 2\n",
    "# output = {}\n",
    "# output[k - 2] = FrequentOneSet\n",
    "# while (len(output[k - 2]) > 0):\n",
    "#     print '%s th interation'%k\n",
    "#     print(output[k-2])\n",
    "#     JoinedKSet = joinset(output[k-2])\n",
    "#     print(JoinedKSet)\n",
    "#     FrequentKSupport = sc.parallelize(JoinedKSet).map(lambda x: (x, len([trac for trac in TractionSet_bc.value if x.issubset(trac)]) / Size)).filter(lambda x: x[1] >= minsup).cache()\n",
    "\n",
    "#     FrequentKSet = FrequentKSupport.map(lambda x: x[0]).collect()\n",
    "\n",
    "#     k += 1\n",
    "#     output[k - 2] = FrequentKSet\n",
    "#     break\n",
    "\n",
    "# # return output"
   ]
  },
  {
   "cell_type": "code",
   "execution_count": 31,
   "metadata": {
    "scrolled": true
   },
   "outputs": [
    {
     "name": "stdout",
     "output_type": "stream",
     "text": [
      "['1', '21', '1', '11', '5']\n"
     ]
    },
    {
     "data": {
      "text/plain": [
       "[frozenset({'1', '21'}),\n",
       " frozenset({'1', '11', '5'}),\n",
       " frozenset({'1', '2', '7'})]"
      ]
     },
     "execution_count": 31,
     "metadata": {},
     "output_type": "execute_result"
    }
   ],
   "source": [
    "print(Tractions.flatMap(lambda x: frozenset(set(x))).take(5))\n",
    "Tractions.map(lambda x: frozenset(set(x))).take(3)"
   ]
  }
 ],
 "metadata": {
  "hide_input": false,
  "kernelspec": {
   "display_name": "Python [default]",
   "language": "python",
   "name": "python2"
  },
  "language_info": {
   "codemirror_mode": {
    "name": "ipython",
    "version": 2
   },
   "file_extension": ".py",
   "mimetype": "text/x-python",
   "name": "python",
   "nbconvert_exporter": "python",
   "pygments_lexer": "ipython2",
   "version": "2.7.13"
  },
  "varInspector": {
   "cols": {
    "lenName": 16,
    "lenType": 16,
    "lenVar": 40
   },
   "kernels_config": {
    "python": {
     "delete_cmd_postfix": "",
     "delete_cmd_prefix": "del ",
     "library": "var_list.py",
     "varRefreshCmd": "print(var_dic_list())"
    },
    "r": {
     "delete_cmd_postfix": ") ",
     "delete_cmd_prefix": "rm(",
     "library": "var_list.r",
     "varRefreshCmd": "cat(var_dic_list()) "
    }
   },
   "position": {
    "height": "438px",
    "left": "1140px",
    "right": "-50px",
    "top": "176px",
    "width": "350px"
   },
   "types_to_exclude": [
    "module",
    "function",
    "builtin_function_or_method",
    "instance",
    "_Feature"
   ],
   "window_display": true
  }
 },
 "nbformat": 4,
 "nbformat_minor": 1
}
