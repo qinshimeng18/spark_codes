{
 "cells": [
  {
   "cell_type": "code",
   "execution_count": 1,
   "metadata": {
    "collapsed": true
   },
   "outputs": [],
   "source": [
    "#!/usr/bin/python\n",
    "# -*- coding: UTF-8 -*-\n",
    "from __future__ import division\n",
    "import csv\n",
    "import random\n",
    "from pyspark import SparkContext\n",
    "from pyspark.sql import SQLContext\n",
    "from pyspark.sql.functions import *\n",
    "import time"
   ]
  },
  {
   "cell_type": "code",
   "execution_count": 2,
   "metadata": {},
   "outputs": [
    {
     "ename": "IOError",
     "evalue": "[Errno 2] No such file or directory: 'data1/transactions.txt'",
     "output_type": "error",
     "traceback": [
      "\u001b[0;31m---------------------------------------------------------------------------\u001b[0m",
      "\u001b[0;31mIOError\u001b[0m                                   Traceback (most recent call last)",
      "\u001b[0;32m<ipython-input-2-d5a515f11834>\u001b[0m in \u001b[0;36m<module>\u001b[0;34m()\u001b[0m\n\u001b[1;32m     35\u001b[0m \u001b[0;34m\u001b[0m\u001b[0m\n\u001b[1;32m     36\u001b[0m \u001b[0minpath\u001b[0m \u001b[0;34m=\u001b[0m \u001b[0;34m'data1/transactions.txt'\u001b[0m\u001b[0;34m\u001b[0m\u001b[0m\n\u001b[0;32m---> 37\u001b[0;31m \u001b[0mids\u001b[0m\u001b[0;34m,\u001b[0m \u001b[0mT\u001b[0m \u001b[0;34m=\u001b[0m \u001b[0mgenTransactions\u001b[0m\u001b[0;34m(\u001b[0m\u001b[0minpath\u001b[0m\u001b[0;34m)\u001b[0m\u001b[0;34m\u001b[0m\u001b[0m\n\u001b[0m\u001b[1;32m     38\u001b[0m \u001b[0;32mdel\u001b[0m \u001b[0mids\u001b[0m\u001b[0;34m\u001b[0m\u001b[0m\n\u001b[1;32m     39\u001b[0m \u001b[0;34m\u001b[0m\u001b[0m\n",
      "\u001b[0;32m<ipython-input-2-d5a515f11834>\u001b[0m in \u001b[0;36mgenTransactions\u001b[0;34m(inpath)\u001b[0m\n\u001b[1;32m      5\u001b[0m     \"\"\"\n\u001b[1;32m      6\u001b[0m     \u001b[0mids\u001b[0m\u001b[0;34m,\u001b[0m \u001b[0mts\u001b[0m \u001b[0;34m=\u001b[0m \u001b[0mlist\u001b[0m\u001b[0;34m(\u001b[0m\u001b[0;34m)\u001b[0m\u001b[0;34m,\u001b[0m \u001b[0mlist\u001b[0m\u001b[0;34m(\u001b[0m\u001b[0;34m)\u001b[0m\u001b[0;34m\u001b[0m\u001b[0m\n\u001b[0;32m----> 7\u001b[0;31m     \u001b[0;32mwith\u001b[0m \u001b[0mopen\u001b[0m\u001b[0;34m(\u001b[0m\u001b[0minpath\u001b[0m\u001b[0;34m,\u001b[0m \u001b[0;34m'r'\u001b[0m\u001b[0;34m)\u001b[0m \u001b[0;32mas\u001b[0m \u001b[0mf\u001b[0m\u001b[0;34m:\u001b[0m\u001b[0;34m\u001b[0m\u001b[0m\n\u001b[0m\u001b[1;32m      8\u001b[0m         \u001b[0;32mfor\u001b[0m \u001b[0mline\u001b[0m \u001b[0;32min\u001b[0m \u001b[0mf\u001b[0m\u001b[0;34m:\u001b[0m\u001b[0;34m\u001b[0m\u001b[0m\n\u001b[1;32m      9\u001b[0m             \u001b[0mi\u001b[0m\u001b[0;34m,\u001b[0m \u001b[0mt\u001b[0m \u001b[0;34m=\u001b[0m \u001b[0mline\u001b[0m\u001b[0;34m.\u001b[0m\u001b[0mstrip\u001b[0m\u001b[0;34m(\u001b[0m\u001b[0;34m)\u001b[0m\u001b[0;34m.\u001b[0m\u001b[0msplit\u001b[0m\u001b[0;34m(\u001b[0m\u001b[0;34m'\\t'\u001b[0m\u001b[0;34m)\u001b[0m\u001b[0;34m\u001b[0m\u001b[0m\n",
      "\u001b[0;31mIOError\u001b[0m: [Errno 2] No such file or directory: 'data1/transactions.txt'"
     ]
    }
   ],
   "source": [
    "\n",
    "\n",
    "def genTransactions(inpath):\n",
    "    \"\"\" Generates a list of transactions, where each transaction is a set of items. \n",
    "    \"\"\"\n",
    "    ids, ts = list(), list()\n",
    "    with open(inpath, 'r') as f:\n",
    "        for line in f:\n",
    "            i, t = line.strip().split('\\t')\n",
    "            ids.append(i)\n",
    "            ts.append(set(t.split(',')))\n",
    "    return ids, ts\n",
    "\n",
    "\n",
    "def genCand(F):\n",
    "    C = list()\n",
    "    def check(curr):\n",
    "        for i in curr:\n",
    "            tmp = curr - {i}\n",
    "            if not tmp in F: return False\n",
    "        return True\n",
    "    for i in xrange(len(F)-1): \n",
    "        for j in xrange(i+1, len(F)):\n",
    "            print F[i], F[j], len(F), '============'\n",
    "            curr = F[i].union(F[j])\n",
    "            if (not curr in C) and len(curr)==len(F[i])+1 and check(curr):\n",
    "                C.append(frozenset(curr))\n",
    "    return C\n",
    "\n",
    "\n",
    "\n",
    "minsup = 0.001 #minimum support ratio\n",
    "niters = 2 #number of iterations\n",
    "results = dict() #results[k] saves k-item frequent set\n",
    "\n",
    "inpath = 'data1/transactions.txt'\n",
    "ids, T = genTransactions(inpath)\n",
    "del ids\n",
    "\n",
    "sc = SparkContext()\n",
    "\n",
    "# def apriori(T, minsup):\n",
    "n = len(T)\n",
    "print n \n",
    "trans = sc.parallelize(T)\n",
    "trans_set = trans.map(lambda x: set(x)).cache()\n",
    "\n",
    "# Gets one-item candidate set\n",
    "trans_set_one = trans.flatMap(lambda x: frozenset(x)).cache()\n",
    "trans_set_one = trans_set_one.map(lambda x: set(x)).cache()\n",
    "\n",
    "\n",
    "\n",
    "# Calculates support ratios\n",
    "trans_set_values = trans_set_one.map(lambda x: (set(x), 1/float(n))).reduceByKey(lambda x,y: x+y)\n",
    "# Gets one-item frequent set\n",
    "freq_set_values = trans_set_values.filter(lambda x: x[1]>=minsup)\n",
    "freq_set_one = freq_set_values.map(lambda x:x[0]).collect()\n",
    "\n",
    "\n",
    "\n",
    "trans_set_bc = sc.broadcast(trans_set.collect())\n",
    "\n",
    "\n",
    "c = 1\n",
    "results[c] = freq_set_one\n",
    "while c < niters+1:\n",
    "    \n",
    "    print ('== %s th iteration ==' % str(c))\n",
    "    \n",
    "    cand_set = genCand(results[c])\n",
    "    freq_set_values = sc.parallelize(cand_set).map(lambda x: (set(x), len([t for t in trans_set_bc.value if x.issubset(t)])/n)).filter(lambda x:x[1]>=minsup).cache()\n",
    "    freq_set = freq_set_values.map(lambda x: x[0]).collect()\n",
    "    c += 1\n",
    "    results[c] = freq_set \n",
    "print results \n",
    "# return results\n",
    "\n",
    "\n",
    "\n",
    "\n",
    "\n",
    "\n"
   ]
  },
  {
   "cell_type": "code",
   "execution_count": null,
   "metadata": {
    "collapsed": true
   },
   "outputs": [],
   "source": []
  }
 ],
 "metadata": {
  "hide_input": false,
  "kernelspec": {
   "display_name": "Python [conda env:anaconda]",
   "language": "python",
   "name": "conda-env-anaconda-py"
  },
  "language_info": {
   "codemirror_mode": {
    "name": "ipython",
    "version": 2
   },
   "file_extension": ".py",
   "mimetype": "text/x-python",
   "name": "python",
   "nbconvert_exporter": "python",
   "pygments_lexer": "ipython2",
   "version": "2.7.13"
  },
  "varInspector": {
   "cols": {
    "lenName": 16,
    "lenType": 16,
    "lenVar": 40
   },
   "kernels_config": {
    "python": {
     "delete_cmd_postfix": "",
     "delete_cmd_prefix": "del ",
     "library": "var_list.py",
     "varRefreshCmd": "print(var_dic_list())"
    },
    "r": {
     "delete_cmd_postfix": ") ",
     "delete_cmd_prefix": "rm(",
     "library": "var_list.r",
     "varRefreshCmd": "cat(var_dic_list()) "
    }
   },
   "types_to_exclude": [
    "module",
    "function",
    "builtin_function_or_method",
    "instance",
    "_Feature"
   ],
   "window_display": false
  }
 },
 "nbformat": 4,
 "nbformat_minor": 2
}
